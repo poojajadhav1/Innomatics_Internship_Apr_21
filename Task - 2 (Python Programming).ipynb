{
 "cells": [
  {
   "cell_type": "markdown",
   "metadata": {},
   "source": [
    "<h2>HackerRank(Python)_Basic_data_types_&_Set</h2>"
   ]
  },
  {
   "cell_type": "markdown",
   "metadata": {},
   "source": [
    "<h4>List Comprehensions</h4>"
   ]
  },
  {
   "cell_type": "code",
   "execution_count": 31,
   "metadata": {},
   "outputs": [
    {
     "name": "stdout",
     "output_type": "stream",
     "text": [
      "2\n",
      "2\n",
      "2\n",
      "2\n",
      "[[0, 0, 0], [0, 0, 1], [0, 1, 0], [0, 1, 2], [0, 2, 1], [0, 2, 2], [1, 0, 0], [1, 0, 2], [1, 1, 1], [1, 1, 2], [1, 2, 0], [1, 2, 1], [1, 2, 2], [2, 0, 1], [2, 0, 2], [2, 1, 0], [2, 1, 1], [2, 1, 2], [2, 2, 0], [2, 2, 1], [2, 2, 2]]\n"
     ]
    }
   ],
   "source": [
    "x = int(input())\n",
    "y = int(input())\n",
    "z = int(input())\n",
    "n = int(input())\n",
    "list1=[[i,j,k] for i in range(x+1) for j in range(0,y+1) for k in range(0,z+1) if i+j+k!=n]\n",
    "print(list1)\n"
   ]
  },
  {
   "cell_type": "markdown",
   "metadata": {},
   "source": [
    "<h4>Find the Runner-Up Score!</h4>\n",
    "\n"
   ]
  },
  {
   "cell_type": "code",
   "execution_count": 32,
   "metadata": {},
   "outputs": [
    {
     "name": "stdout",
     "output_type": "stream",
     "text": [
      "5\n",
      "2 3 6 6 5\n",
      "5\n"
     ]
    }
   ],
   "source": [
    "n=int(input()) \n",
    "c =[int(i) for i in input().split()][:n]\n",
    "c.sort()\n",
    "c.reverse()\n",
    "v=max(c)\n",
    "for i in range(n):\n",
    "    if(c[i]<v):\n",
    "        print(c[i])\n",
    "        break"
   ]
  },
  {
   "cell_type": "markdown",
   "metadata": {},
   "source": [
    "<h4>Nested Lists</h4>\n",
    "\n"
   ]
  },
  {
   "cell_type": "code",
   "execution_count": 33,
   "metadata": {},
   "outputs": [
    {
     "name": "stdout",
     "output_type": "stream",
     "text": [
      "4\n",
      "P\n",
      "32\n",
      "o\n",
      "36\n",
      "d\n",
      "39\n",
      "s\n",
      "40\n",
      "o\n"
     ]
    }
   ],
   "source": [
    "new=[]\n",
    "new2=[]\n",
    "new3=[]\n",
    "n=int(input(''))\n",
    "for i in range(0,n):\n",
    "    name=input('')\n",
    "    list1=new.append(name)\n",
    "    marks=float(input(''))\n",
    "    list2=new2.append(marks)\n",
    "new3=list(set(new2))\n",
    "s=sorted(new3,reverse=True)[-2]\n",
    "\n",
    "pos_list = []\n",
    "for i in range(len(new2)):\n",
    "    if new2[i] ==s:\n",
    "        pos_list.append(i)\n",
    "\n",
    "save=[new[i] for i in pos_list]\n",
    "for i in sorted(save):\n",
    "    print(i)\n"
   ]
  },
  {
   "cell_type": "markdown",
   "metadata": {},
   "source": [
    "<h4>Finding the percentage<h4>"
   ]
  },
  {
   "cell_type": "code",
   "execution_count": 34,
   "metadata": {},
   "outputs": [
    {
     "name": "stdout",
     "output_type": "stream",
     "text": [
      "3\n",
      "krishna 67 68 69\n",
      "arjun 70 98 63\n",
      "malika 52 56 60\n",
      "malika\n",
      "56.00\n"
     ]
    }
   ],
   "source": [
    "n=int(input(''))\n",
    "d={}\n",
    "for i in range(0,n):\n",
    "    new=input('')\n",
    "    s=new.split()\n",
    "    d[s[0]]=[float(s[1]),float(s[2]),float(s[3])] \n",
    "sr=input()\n",
    "\n",
    "score=(d[sr][0]+d[sr][1]+d[sr][2])/3\n",
    "print(\"{:.2f}\".format(score))\n",
    "\n"
   ]
  },
  {
   "cell_type": "markdown",
   "metadata": {},
   "source": [
    "<h4>Lists</h4>\n",
    "\n"
   ]
  },
  {
   "cell_type": "code",
   "execution_count": 39,
   "metadata": {},
   "outputs": [
    {
     "name": "stdout",
     "output_type": "stream",
     "text": [
      "12\n",
      "insert 0 5\n",
      "insert 1 10\n",
      "insert 0 6\n",
      "print\n",
      "[6, 5, 10]\n",
      "remove 6\n",
      "append 9\n",
      "append 1\n",
      "sort\n",
      "print\n",
      "[1, 5, 9, 10]\n",
      "pop\n",
      "reverse\n",
      "print\n",
      "[9, 5, 1]\n"
     ]
    }
   ],
   "source": [
    "n = int(input())\n",
    "list1 = []\n",
    "for i in range(n):\n",
    "    s = input().split()\n",
    "    command = s[0]\n",
    "    num = s[1:]\n",
    "    if command !=\"print\":\n",
    "        command += \"(\"+ \",\".join(num) +\")\"\n",
    "        eval(\"list1.\"+command)\n",
    "    else:\n",
    "        print (list1)"
   ]
  },
  {
   "cell_type": "markdown",
   "metadata": {},
   "source": [
    "<h4>Tuples</h4>\n"
   ]
  },
  {
   "cell_type": "code",
   "execution_count": 42,
   "metadata": {},
   "outputs": [
    {
     "name": "stdout",
     "output_type": "stream",
     "text": [
      "2\n",
      "1 2\n",
      "-3550055125485641917\n"
     ]
    }
   ],
   "source": [
    "if __name__ == '__main__':\n",
    "    n = int(input())\n",
    "    integer_list = map(int, input().split())\n",
    "    s= tuple(integer_list)\n",
    "    print(hash(s))\n"
   ]
  },
  {
   "cell_type": "markdown",
   "metadata": {},
   "source": [
    "<h4>Introduction to Sets</h4>\n"
   ]
  },
  {
   "cell_type": "code",
   "execution_count": 45,
   "metadata": {},
   "outputs": [
    {
     "name": "stdout",
     "output_type": "stream",
     "text": [
      "10\n",
      "161 182 161 154 176 170 167 171 170 174\n",
      "169.375\n"
     ]
    }
   ],
   "source": [
    "def average(array):\n",
    "    # your code goes here\n",
    "    add=set(array)\n",
    "    return sum(add)/(len(add))\n",
    "\n",
    "if __name__ == '__main__':\n",
    "    n = int(input())\n",
    "    arr = list(map(int, input().split()))\n",
    "    result = average(arr)\n",
    "    print(result)"
   ]
  },
  {
   "cell_type": "markdown",
   "metadata": {},
   "source": [
    "<h4>No idea!</h4>"
   ]
  },
  {
   "cell_type": "code",
   "execution_count": 46,
   "metadata": {},
   "outputs": [
    {
     "name": "stdout",
     "output_type": "stream",
     "text": [
      "3 2\n",
      "1 5 3\n",
      "3 1\n",
      "5 7\n",
      "1\n"
     ]
    }
   ],
   "source": [
    "# Enter your code here. Read input from STDIN. Print output to STDOUT\n",
    "s = input()\n",
    "array = input().split()\n",
    "like = set(input().split())\n",
    "dislike = set(input().split())\n",
    "print(sum((i in like) - (i in dislike) for i in array))\n"
   ]
  },
  {
   "cell_type": "markdown",
   "metadata": {},
   "source": [
    "<h4>Symmetric Difference</h4>"
   ]
  },
  {
   "cell_type": "code",
   "execution_count": 47,
   "metadata": {},
   "outputs": [
    {
     "name": "stdout",
     "output_type": "stream",
     "text": [
      "4\n",
      "2 4 5 9\n",
      "4\n",
      "2 4 11 12\n",
      "5\n",
      "9\n",
      "11\n",
      "12\n"
     ]
    }
   ],
   "source": [
    "# Enter your code here. Read input from STDIN. Print output to STDOUT\n",
    "n=int(input())\n",
    "num=input().split()\n",
    "n1=int(input())\n",
    "num1=input().split()\n",
    "a=set(num)\n",
    "b=set(num1)\n",
    "diff1=a.difference(b)\n",
    "diff2=b.difference(a)\n",
    "r=diff1.union(diff2)\n",
    "print ('\\n'.join(sorted(r, key=int)))\n"
   ]
  },
  {
   "cell_type": "markdown",
   "metadata": {},
   "source": [
    "<h4>set.add()</h4>"
   ]
  },
  {
   "cell_type": "code",
   "execution_count": 48,
   "metadata": {},
   "outputs": [
    {
     "name": "stdout",
     "output_type": "stream",
     "text": [
      "7\n",
      "uk\n",
      "china\n",
      "usa\n",
      "france\n",
      "new zealand\n",
      "uk\n",
      "france\n",
      "5\n"
     ]
    }
   ],
   "source": [
    "# Enter your code here. Read input from STDIN. Print output to STDOUT\n",
    "n=int(input())\n",
    "name=[str(input()) for i in range(n)]\n",
    "print(len(set(name)))\n",
    "\n",
    "\n"
   ]
  },
  {
   "cell_type": "markdown",
   "metadata": {},
   "source": [
    "<h4>Set .discard(), .remove() & .pop()</h4>\n",
    "\n"
   ]
  },
  {
   "cell_type": "code",
   "execution_count": 49,
   "metadata": {},
   "outputs": [
    {
     "name": "stdout",
     "output_type": "stream",
     "text": [
      "9\n",
      "1 2 3 4 5 6 7 8 9\n",
      "10\n",
      "pop\n",
      "remove 9\n",
      "discard 9\n",
      "discard 8\n",
      "remove 7\n",
      "pop\n",
      "discard 6\n",
      "remove 5\n",
      "pop\n",
      "discard 5\n",
      "4\n"
     ]
    }
   ],
   "source": [
    "n = int(input())\n",
    "s = set(map(int, input().split()))\n",
    "op=int(input())\n",
    "for x in range(op):\n",
    "    op_list=input().split()\n",
    "    if op_list[0]=='pop':\n",
    "        s.pop()\n",
    "    elif op_list[0]=='remove':\n",
    "        s.remove(int(op_list[1]))\n",
    "    elif op_list[0]=='discard':\n",
    "        s.discard(int(op_list[1]))\n",
    "            \n",
    "print(sum(s))\n",
    "\n"
   ]
  },
  {
   "cell_type": "markdown",
   "metadata": {},
   "source": [
    "<h4>Set .union() Operation</h4>"
   ]
  },
  {
   "cell_type": "code",
   "execution_count": 50,
   "metadata": {},
   "outputs": [
    {
     "name": "stdout",
     "output_type": "stream",
     "text": [
      "9\n",
      "1 2 3 4 5 6 7 8 9\n",
      "9\n",
      "10 1 2 3 11 21 55 6 8\n",
      "13\n"
     ]
    }
   ],
   "source": [
    "# Enter your code here. Read input from STDIN. Print output to STDOUT\n",
    "a,list1=(int(input()),input().split())\n",
    "b,list2=(int(input()),input().split())\n",
    "\n",
    "print(len(set(list1).union(set(list2))))\n"
   ]
  },
  {
   "cell_type": "markdown",
   "metadata": {},
   "source": [
    "<h4>Set .intersection() Operation</h4>"
   ]
  },
  {
   "cell_type": "code",
   "execution_count": 51,
   "metadata": {},
   "outputs": [
    {
     "name": "stdout",
     "output_type": "stream",
     "text": [
      "9\n",
      "1 2 3 4 5 6 7 8 9\n",
      "9\n",
      "10 1 2 3 11 21 55 6 8\n",
      "5\n"
     ]
    }
   ],
   "source": [
    "# Enter your code here. Read input from STDIN. Print output to STDOUT\n",
    "a,list1=(int(input()),input().split())\n",
    "b,list2=(int(input()),input().split())\n",
    "print(len(set(list1).intersection(set(list2))))\n"
   ]
  },
  {
   "cell_type": "markdown",
   "metadata": {},
   "source": [
    "<h4>Set .difference() Operation</h4>\n",
    "\n"
   ]
  },
  {
   "cell_type": "code",
   "execution_count": 52,
   "metadata": {},
   "outputs": [
    {
     "name": "stdout",
     "output_type": "stream",
     "text": [
      "9\n",
      "1 2 3 4 5 6 7 8 9\n",
      "9\n",
      "10 1 2 3 11 21 55 6 8\n",
      "4\n"
     ]
    }
   ],
   "source": [
    "# Enter your code here. Read input from STDIN. Print output to STDOUT\n",
    "a,list1=(int(input()),input().split())\n",
    "b,list2=(int(input()),input().split())\n",
    "print(len(set(list1).difference(set(list2))))\n"
   ]
  },
  {
   "cell_type": "markdown",
   "metadata": {},
   "source": [
    "<h4>Set .symmetric_difference() Operation</h4>"
   ]
  },
  {
   "cell_type": "code",
   "execution_count": 53,
   "metadata": {},
   "outputs": [
    {
     "name": "stdout",
     "output_type": "stream",
     "text": [
      "9\n",
      "1 2 3 4 5 6 7 8 9\n",
      "9\n",
      "10 1 2 3 11 21 55 6 8\n",
      "8\n"
     ]
    }
   ],
   "source": [
    "# Enter your code here. Read input from STDIN. Print output to STDOUT\n",
    "a,list1=(int(input()),input().split())\n",
    "b,list2=(int(input()),input().split())\n",
    "print(len(set(list1).symmetric_difference(set(list2))))\n"
   ]
  },
  {
   "cell_type": "markdown",
   "metadata": {},
   "source": [
    "<h4>Set Mutations</h4>"
   ]
  },
  {
   "cell_type": "code",
   "execution_count": 54,
   "metadata": {},
   "outputs": [
    {
     "name": "stdout",
     "output_type": "stream",
     "text": [
      "16\n",
      " 1 2 3 4 5 6 7 8 9 10 11 12 13 14 24 52\n",
      "4\n",
      " intersection_update 10\n",
      " 2 3 5 6 8 9 1 4 7 11\n",
      " update 2\n",
      "55 66\n",
      " symmetric_difference_update 5\n",
      " 22 7 35 62 58\n",
      " difference_update 7\n",
      " 11 22 35 55 58 62 66\n",
      "38\n"
     ]
    }
   ],
   "source": [
    "\n",
    "i = int(input())\n",
    "s1 = set(map(int, input().split()))\n",
    "N = int(input())\n",
    "\n",
    "for i in range(N):\n",
    "    cmd, i = input().split()\n",
    "    s2 = set(map(int, input().split()))\n",
    "    if(cmd == \"intersection_update\"):\n",
    "        s1.intersection_update(s2)\n",
    "    elif(cmd == \"update\"):\n",
    "        s1.update(s2)\n",
    "    elif(cmd == \"symmetric_difference_update\"):\n",
    "        s1.symmetric_difference_update(s2)\n",
    "    elif(cmd == \"difference_update\"):\n",
    "        s1.difference_update(s2)\n",
    "\n",
    "print(sum(s1))\n",
    "\n"
   ]
  },
  {
   "cell_type": "markdown",
   "metadata": {},
   "source": [
    "<h4>The Captain's Room</h4>"
   ]
  },
  {
   "cell_type": "code",
   "execution_count": 55,
   "metadata": {},
   "outputs": [
    {
     "name": "stdout",
     "output_type": "stream",
     "text": [
      "5\n",
      "1 2 3 6 5 4 4 2 5 3 6 1 6 5 3 2 4 1 2 5 1 4 3 6 8 4 3 1 5 6 2\n",
      "8\n"
     ]
    }
   ],
   "source": [
    "d=input();  \n",
    "list1=input().split();  \n",
    "s1=set();  \n",
    "s2=set();  \n",
    "for i in list1:\n",
    "    if  i in s1:\n",
    "        s2.add(i);\n",
    "    else:\n",
    "        s1.add(i);\n",
    "s3=s1.difference(s2);\n",
    "print(''.join(s3))\n"
   ]
  },
  {
   "cell_type": "markdown",
   "metadata": {},
   "source": [
    "<h4>Check Subset</h4>"
   ]
  },
  {
   "cell_type": "code",
   "execution_count": 56,
   "metadata": {},
   "outputs": [
    {
     "name": "stdout",
     "output_type": "stream",
     "text": [
      "3\n",
      "5\n",
      "1 2 3 4 5\n",
      "9\n",
      "9 8 5 6 3 2 1 4 7\n",
      "True\n",
      "1\n",
      "2\n",
      "5\n",
      "3 6 5 4 1\n",
      "False\n",
      "7\n",
      "1 2 3 5 6 8 9\n",
      "3\n",
      "9 8 2\n",
      "False\n"
     ]
    }
   ],
   "source": [
    "# Enter your code here. Read input from STDIN. Print output to STDOUT\n",
    "n=int(input())\n",
    "for i in range(n):\n",
    "    a,list1=int(input()),input().split()\n",
    "    b,list2=int(input()),input().split()\n",
    "    if set(list1).issubset(set(list2)):\n",
    "        print('True')\n",
    "    else:\n",
    "        print('False')\n"
   ]
  },
  {
   "cell_type": "markdown",
   "metadata": {},
   "source": [
    "<h4>Check Strict Superset</h4>"
   ]
  },
  {
   "cell_type": "code",
   "execution_count": 57,
   "metadata": {},
   "outputs": [
    {
     "name": "stdout",
     "output_type": "stream",
     "text": [
      "1 2 3 4 5 6 7 8 9 10 11 12 23 45 84 78\n",
      "2\n",
      "1 2 3 4 5\n",
      "100 11 12\n",
      "False\n"
     ]
    }
   ],
   "source": [
    "# Enter your code here. Read input from STDIN. Print output to STDOUT\n",
    "n=set(input().split())\n",
    "num=int(input())\n",
    "count=0\n",
    "for i in range(num):\n",
    "    list1=set(input().split())\n",
    "    if n.issuperset(list1):\n",
    "        count+=1\n",
    "print(count==num)\n",
    "\n"
   ]
  },
  {
   "cell_type": "code",
   "execution_count": null,
   "metadata": {},
   "outputs": [],
   "source": []
  }
 ],
 "metadata": {
  "kernelspec": {
   "display_name": "Python 3",
   "language": "python",
   "name": "python3"
  },
  "language_info": {
   "codemirror_mode": {
    "name": "ipython",
    "version": 3
   },
   "file_extension": ".py",
   "mimetype": "text/x-python",
   "name": "python",
   "nbconvert_exporter": "python",
   "pygments_lexer": "ipython3",
   "version": "3.8.5"
  }
 },
 "nbformat": 4,
 "nbformat_minor": 4
}
